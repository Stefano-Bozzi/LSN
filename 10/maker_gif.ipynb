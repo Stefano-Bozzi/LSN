{
 "cells": [
  {
   "cell_type": "code",
   "execution_count": null,
   "id": "3fa6d4ba",
   "metadata": {},
   "outputs": [],
   "source": [
    "import matplotlib\n",
    "import matplotlib.pyplot as plt\n",
    "import numpy as np\n",
    "\n",
    "import os\n",
    "import imageio\n",
    "\n",
    "import matplotlib.image as mpimg\n",
    "from matplotlib.animation import PillowWriter\n",
    "\n",
    "filenames = []\n",
    "\n",
    "plt.figure(figsize=(10, 10))\n",
    "for i in range (5,501,5):\n",
    "    x, f = np.loadtxt(\"data_Square/cityPath__\"+str(1)+\".dat\", usecols=(1,2), unpack='true',  delimiter='\\t')\n",
    "    plt.plot(x,f, 'b')\n",
    "    plt.plot(x,f, marker='o')\n",
    "    plt.scatter(x[0], f[0], c='r', marker='*', s=200, label='starting point')\n",
    "    plt.gca().set_aspect('equal', adjustable='box')\n",
    "    plt.title('Path evolution')\n",
    "    plt.legend(loc='upper left')\n",
    "    plt.xlabel('x')\n",
    "    plt.ylabel('y')\n",
    "    plt.grid(True)\n",
    "    filename = 'pic_Square/0.png'\n",
    "    filenames.append(filename)\n",
    "    plt.savefig(filename, dpi=300)\n",
    "    plt.close()\n",
    "\n",
    "    x, f = np.loadtxt(\"data_Square/cityPath__\"+str(i)+\".dat\", usecols=(1,2), unpack='true',  delimiter='\\t')\n",
    "    plt.plot(x,f, 'b')\n",
    "    plt.plot(x,f, marker='o')\n",
    "    plt.scatter(x[0], f[0], c='r', marker='*', s=200, label='starting point')\n",
    "    plt.gca().set_aspect('equal', adjustable='box')\n",
    "    plt.title('Path evolution')\n",
    "    plt.legend(loc='upper left')\n",
    "    plt.xlabel('x')\n",
    "    plt.ylabel('y')\n",
    "    plt.grid(True)\n",
    "    filename = 'pic_Square/'+str(i)+'.png'\n",
    "    filenames.append(filename)\n",
    "    plt.savefig(filename, dpi=300)\n",
    "    plt.close()\n"
   ]
  }
 ],
 "metadata": {
  "kernelspec": {
   "display_name": "Python 3 (ipykernel)",
   "language": "python",
   "name": "python3"
  },
  "language_info": {
   "codemirror_mode": {
    "name": "ipython",
    "version": 3
   },
   "file_extension": ".py",
   "mimetype": "text/x-python",
   "name": "python",
   "nbconvert_exporter": "python",
   "pygments_lexer": "ipython3",
   "version": "3.9.7"
  }
 },
 "nbformat": 4,
 "nbformat_minor": 5
}
